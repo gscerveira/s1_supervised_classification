{
 "cells": [
  {
   "cell_type": "markdown",
   "id": "turned-joshua",
   "metadata": {},
   "source": [
    "# Classificação supervisionada (cobertura do solo) em imagem do Sentinel 1\n",
    "\n",
    "Esse notebook utiliza o Google Earth Engine para realizar a classificação supervisionada de cobertura do solo em uma imagem do satélite Sentinel 1, todos os dados e ferramentas para a realização da classificação estão disponíveis na base de dados do Earth Engine, inclusive os algoritmos de classificação.\n",
    "\n",
    "Outra vantagem é que os dados do Sentinel 1 já são disponibilizados com todo o pré processamento para determinação de intensidade de retorno feito, de acordo com os passos implementados na Toolbox do Sentinel 1, elaborada pela ESA.\n",
    "\n",
    "Além das imagens do Sentinel 1, foi adquirido, também do Earth Engine, a base de dados de classificação da cobertura do solo CGLS, da Copernicus, que é utilizada neste notebook para treinar o modelo de classificação.\n",
    "\n",
    "Dados do Sentinel 1: https://developers.google.com/earth-engine/datasets/catalog/COPERNICUS_S1_GRD\n",
    "\n",
    "Dados de cobertura do solo (CGLS): https://developers.google.com/earth-engine/datasets/catalog/COPERNICUS_Landcover_100m_Proba-V-C3_Global\n"
   ]
  },
  {
   "cell_type": "code",
   "execution_count": 143,
   "id": "alien-immunology",
   "metadata": {},
   "outputs": [],
   "source": [
    "import ee\n",
    "import geopandas as gpd\n",
    "import json\n",
    "import geemap"
   ]
  },
  {
   "cell_type": "code",
   "execution_count": 144,
   "id": "accurate-cambridge",
   "metadata": {},
   "outputs": [
    {
     "data": {
      "text/html": [
       "<p>To authorize access needed by Earth Engine, open the following\n",
       "        URL in a web browser and follow the instructions:</p>\n",
       "        <p><a href=https://accounts.google.com/o/oauth2/auth?client_id=517222506229-vsmmajv00ul0bs7p89v5m89qs8eb9359.apps.googleusercontent.com&scope=https%3A%2F%2Fwww.googleapis.com%2Fauth%2Fearthengine+https%3A%2F%2Fwww.googleapis.com%2Fauth%2Fdevstorage.full_control&redirect_uri=urn%3Aietf%3Awg%3Aoauth%3A2.0%3Aoob&response_type=code&code_challenge=tQfXFRfYGSyUNI5PPJCZIcVLmgbPzxH-U2MPP_23PkQ&code_challenge_method=S256>https://accounts.google.com/o/oauth2/auth?client_id=517222506229-vsmmajv00ul0bs7p89v5m89qs8eb9359.apps.googleusercontent.com&scope=https%3A%2F%2Fwww.googleapis.com%2Fauth%2Fearthengine+https%3A%2F%2Fwww.googleapis.com%2Fauth%2Fdevstorage.full_control&redirect_uri=urn%3Aietf%3Awg%3Aoauth%3A2.0%3Aoob&response_type=code&code_challenge=tQfXFRfYGSyUNI5PPJCZIcVLmgbPzxH-U2MPP_23PkQ&code_challenge_method=S256</a></p>\n",
       "        <p>The authorization workflow will generate a code, which you\n",
       "        should paste in the box below</p>\n",
       "        "
      ],
      "text/plain": [
       "<IPython.core.display.HTML object>"
      ]
     },
     "metadata": {},
     "output_type": "display_data"
    },
    {
     "name": "stdout",
     "output_type": "stream",
     "text": [
      "Enter verification code: 4/1AY0e-g6YomeqGRnA0MhKprqaA19IuxEm8qhejoi6rn1k9uYB8iza131yzr8\n",
      "\n",
      "Successfully saved authorization token.\n"
     ]
    }
   ],
   "source": [
    "# Autenticar e inicializar o acesso ao Google Earth Engine\n",
    "ee.Authenticate()\n",
    "ee.Initialize()"
   ]
  },
  {
   "cell_type": "markdown",
   "id": "ecological-addition",
   "metadata": {},
   "source": [
    "#### Os pacotes geopandas e json foram utilizados para carregar o shapefile da área de interesse e extrair suas coordenadas."
   ]
  },
  {
   "cell_type": "code",
   "execution_count": 145,
   "id": "adapted-holocaust",
   "metadata": {
    "scrolled": false
   },
   "outputs": [
    {
     "name": "stdout",
     "output_type": "stream",
     "text": [
      "[[[-40.43448641364819, -2.9753515441904597], [-39.565388281268724, -2.9753515441904597], [-39.565388281268724, -3.7605736761144613], [-40.43448641364819, -3.7605736761144613], [-40.43448641364819, -2.9753515441904597]]]\n"
     ]
    }
   ],
   "source": [
    "area = gpd.read_file('area_desafio/area.shp')\n",
    "area_json = json.loads(area.to_json())\n",
    "\n",
    "coords = area_json['features'][0]['geometry']['coordinates']\n",
    "print(coords)"
   ]
  },
  {
   "cell_type": "markdown",
   "id": "amateur-proportion",
   "metadata": {},
   "source": [
    "#### A partir das coordenadas é possível construir um polígono da área de interesse, para recortar as imagens que serão utilizadas."
   ]
  },
  {
   "cell_type": "code",
   "execution_count": 146,
   "id": "italian-aruba",
   "metadata": {},
   "outputs": [],
   "source": [
    "aoi = ee.Geometry.Polygon(coords)"
   ]
  },
  {
   "cell_type": "markdown",
   "id": "altered-clearance",
   "metadata": {},
   "source": [
    "#### Inicializando o mapa para exibição dos outputs."
   ]
  },
  {
   "cell_type": "code",
   "execution_count": 147,
   "id": "concerned-recovery",
   "metadata": {},
   "outputs": [],
   "source": [
    "Map = geemap.Map()"
   ]
  },
  {
   "cell_type": "markdown",
   "id": "communist-therapy",
   "metadata": {},
   "source": [
    "#### Carregando e filtrando dados do Sentinel 1\n",
    "\n",
    "Foram carregados os dados do ano de 2019, por ser o mesmo ano dos dados de classificação de cobertura do solo, foram escolhidas as bandas VV e VH, e apenas imagens adquiridas com órbita descendente, por ser o único tipo de passagem disponível para a área de interesse.\n",
    "\n",
    "A coleção de imagens foi reduzida a apenas uma imagem, a partir da seleção de valores medianos para as duas bandas."
   ]
  },
  {
   "cell_type": "code",
   "execution_count": 148,
   "id": "separated-vanilla",
   "metadata": {},
   "outputs": [],
   "source": [
    "s1_collection = ee.ImageCollection('COPERNICUS/S1_GRD').filterBounds(aoi).filterDate(ee.Date('2019-01-01'), ee.Date('2019-12-31'))\n",
    "\n",
    "s1_desc = s1_collection.filter(ee.Filter.eq('orbitProperties_pass', 'DESCENDING'));\n",
    "\n",
    "s1_vvvh = s1_desc.filter(ee.Filter.listContains('transmitterReceiverPolarisation', 'VV')).filter(ee.Filter.listContains('transmitterReceiverPolarisation', 'VH')).filter(ee.Filter.eq('instrumentMode', 'IW'));\n",
    "\n",
    "s1_composite = ee.Image.cat([s1_vvvh.select('VV').median(),s1_vvvh.select('VH').median(),]).clip(aoi)"
   ]
  },
  {
   "cell_type": "markdown",
   "id": "trying-bullet",
   "metadata": {},
   "source": [
    "#### Criando composto RGB da imagem\n",
    "\n",
    "Para melhor visualização no mapa, a imagem do Sentinel 1 tratada de forma a criar bandas RGB.\n",
    "\n",
    "Em seguida, a projeção foi mudada para Pseudo-Mercator, para permitir a amostragem de pontos."
   ]
  },
  {
   "cell_type": "markdown",
   "id": "european-electric",
   "metadata": {},
   "source": [
    "rgb = ee.Image.rgb(s1_composite.select('VV'),\n",
    "                   s1_composite.select('VH'),\n",
    "                   s1_composite.select('VV').divide(s1_composite.select('VH')))\n",
    "\n",
    "proj = ee.Projection('EPSG:3857');\n",
    "rgb_r = rgb.reproject(proj, scale = 100)"
   ]
  },
  {
   "cell_type": "markdown",
   "id": "dying-antarctica",
   "metadata": {},
   "source": [
    "#### Adicionando camada do Sentinel 1 (em RGB) ao mapa"
   ]
  },
  {
   "cell_type": "code",
   "execution_count": 149,
   "id": "communist-cylinder",
   "metadata": {},
   "outputs": [],
   "source": [
    "Map.centerObject(aoi, 8)\n",
    "Map.addLayer(rgb_r, {'min': [-20, -20, 0], 'max': [0, 0, 2]}, \"Sentinel 1\")"
   ]
  },
  {
   "cell_type": "markdown",
   "id": "italic-apple",
   "metadata": {},
   "source": [
    "#### Carregando dados de cobertura do solo da Copernicus, e visualizando os valores padrão das classes"
   ]
  },
  {
   "cell_type": "code",
   "execution_count": 150,
   "id": "rubber-clearing",
   "metadata": {},
   "outputs": [
    {
     "name": "stdout",
     "output_type": "stream",
     "text": [
      "[0, 20, 30, 40, 50, 60, 70, 80, 90, 100, 111, 112, 113, 114, 115, 116, 121, 122, 123, 124, 125, 126, 200]\n"
     ]
    }
   ],
   "source": [
    "lc_classes_bruto = ee.Image(\"COPERNICUS/Landcover/100m/Proba-V-C3/Global/2019\").select('discrete_classification').clip(aoi)\n",
    "\n",
    "val_classes_bruto = lc_classes_bruto.get('discrete_classification_class_values').getInfo()\n",
    "print(val_classes_bruto)"
   ]
  },
  {
   "cell_type": "markdown",
   "id": "bearing-elephant",
   "metadata": {},
   "source": [
    "#### Atribuindo valores inteiros consecutivos às classes de cobertura do solo"
   ]
  },
  {
   "cell_type": "code",
   "execution_count": 151,
   "id": "integral-slave",
   "metadata": {},
   "outputs": [
    {
     "name": "stdout",
     "output_type": "stream",
     "text": [
      "[0, 1, 2, 3, 4, 5, 6, 7, 8, 9, 10, 11, 12, 13, 14, 15, 16, 17, 18, 19, 20, 21, 22]\n"
     ]
    }
   ],
   "source": [
    "n_classes = len(val_classes_bruto)\n",
    "new_class_values = list(range(0, n_classes))\n",
    "print(new_class_values)"
   ]
  },
  {
   "cell_type": "markdown",
   "id": "cathedral-bruce",
   "metadata": {},
   "source": [
    "#### Visualizando valores da paleta de cores"
   ]
  },
  {
   "cell_type": "code",
   "execution_count": 152,
   "id": "reduced-bullet",
   "metadata": {
    "scrolled": true
   },
   "outputs": [
    {
     "name": "stdout",
     "output_type": "stream",
     "text": [
      "['282828', 'FFBB22', 'FFFF4C', 'F096FF', 'FA0000', 'B4B4B4', 'F0F0F0', '0032C8', '0096A0', 'FAE6A0', '58481F', '009900', '70663E', '00CC00', '4E751F', '007800', '666000', '8DB400', '8D7400', 'A0DC00', '929900', '648C00', '000080']\n"
     ]
    }
   ],
   "source": [
    "class_palette = lc_classes_bruto.get('discrete_classification_class_palette').getInfo()\n",
    "print(class_palette)"
   ]
  },
  {
   "cell_type": "markdown",
   "id": "fleet-twist",
   "metadata": {},
   "source": [
    "#### Remapeando dados da cobertura do solo com os novos valores de classes"
   ]
  },
  {
   "cell_type": "code",
   "execution_count": 153,
   "id": "proprietary-transmission",
   "metadata": {},
   "outputs": [],
   "source": [
    "lc_classes = lc_classes_bruto.remap(val_classes_bruto, new_class_values).select(['remapped'], ['discrete_classification'])\n",
    "lc_classes = lc_classes.set('discrete_classification_class_values', new_class_values)\n",
    "lc_classes = lc_classes.set('discrete_classification_class_palette', class_palette)"
   ]
  },
  {
   "cell_type": "markdown",
   "id": "sustained-witch",
   "metadata": {},
   "source": [
    "#### Gerando pontos em posições aleatórias, para classificação, e adicionando-os ao mapa"
   ]
  },
  {
   "cell_type": "code",
   "execution_count": 154,
   "id": "ideal-defensive",
   "metadata": {},
   "outputs": [],
   "source": [
    "points = lc_classes.sample(**{\n",
    "    'region': rgb_r.geometry(),\n",
    "    'scale': 100,\n",
    "    'numPixels': 10000,\n",
    "    'seed': 0,\n",
    "    'geometries': True\n",
    "})\n",
    "\n",
    "Map.addLayer(points, {}, 'training', False)"
   ]
  },
  {
   "cell_type": "markdown",
   "id": "dynamic-circulation",
   "metadata": {},
   "source": [
    "#### Amostrando a imagem do Sentinel 1 nos pontos gerados anteriormente, e separando-os em dados de treino (80%) e validação (20%)"
   ]
  },
  {
   "cell_type": "code",
   "execution_count": 155,
   "id": "induced-ivory",
   "metadata": {},
   "outputs": [],
   "source": [
    "# Bandas usadas para previsão.\n",
    "bands = rgb_r.bandNames().getInfo()\n",
    "\n",
    "# Valores das labels de cobertura do solo.\n",
    "label = 'discrete_classification'\n",
    "\n",
    "# Colocando os pontos sobre a imagem, para obter dados de treino do modelo.\n",
    "sample = rgb_r.select(bands).sampleRegions(**{\n",
    "  'collection': points,\n",
    "  'properties': [label],\n",
    "  'scale': 100\n",
    "})\n",
    "\n",
    "# Criando coluna de números aleatórios para separar dados em dados de treino e validação. \n",
    "sample = sample.randomColumn()\n",
    "\n",
    "split = 0.8\n",
    "\n",
    "training = sample.filter(ee.Filter.lt('random', split))\n",
    "validation = sample.filter(ee.Filter.gte('random', split))"
   ]
  },
  {
   "cell_type": "markdown",
   "id": "social-peter",
   "metadata": {},
   "source": [
    "#### Treinando o modelo de classificação e o aplicando sobre a imagem do Sentinel 1 inteira  "
   ]
  },
  {
   "cell_type": "code",
   "execution_count": 156,
   "id": "considerable-movement",
   "metadata": {},
   "outputs": [],
   "source": [
    "# Treinando o modelo.\n",
    "classifier = ee.Classifier.smileRandomForest(32).train(training, label, bands)\n",
    "\n",
    "# Classificando a imagem.\n",
    "result = rgb_r.select(bands).classify(classifier)"
   ]
  },
  {
   "cell_type": "markdown",
   "id": "golden-teens",
   "metadata": {},
   "source": [
    "#### Adicionando cores originais da base de dados de cobertura do solo aos resultados do modelo"
   ]
  },
  {
   "cell_type": "code",
   "execution_count": 157,
   "id": "sensitive-perth",
   "metadata": {},
   "outputs": [
    {
     "name": "stdout",
     "output_type": "stream",
     "text": [
      "[0, 1, 2, 3, 4, 5, 6, 7, 8, 9, 10, 11, 12, 13, 14, 15, 16, 17, 18, 19, 20, 21, 22]\n",
      "['282828', 'FFBB22', 'FFFF4C', 'F096FF', 'FA0000', 'B4B4B4', 'F0F0F0', '0032C8', '0096A0', 'FAE6A0', '58481F', '009900', '70663E', '00CC00', '4E751F', '007800', '666000', '8DB400', '8D7400', 'A0DC00', '929900', '648C00', '000080']\n"
     ]
    }
   ],
   "source": [
    "class_values = lc_classes.get('discrete_classification_class_values').getInfo()\n",
    "print(class_values)\n",
    "class_palette = lc_classes.get('discrete_classification_class_palette').getInfo()\n",
    "print(class_palette)\n",
    "\n",
    "landcover = result.set('classification_class_values', class_values)\n",
    "landcover = landcover.set('classification_class_palette', class_palette)"
   ]
  },
  {
   "cell_type": "markdown",
   "id": "defensive-anatomy",
   "metadata": {},
   "source": [
    "#### Determinando acurácia global "
   ]
  },
  {
   "cell_type": "code",
   "execution_count": 160,
   "id": "cardiac-russia",
   "metadata": {},
   "outputs": [
    {
     "name": "stdout",
     "output_type": "stream",
     "text": [
      "A acurácia global foi de:  96.45059786028949 %\n"
     ]
    }
   ],
   "source": [
    "train_accuracy = classifier.confusionMatrix()\n",
    "overall_acc = train_accuracy.accuracy().getInfo()\n",
    "print('A acurácia global foi de: ', 100*overall_acc,''%')"
   ]
  },
  {
   "cell_type": "markdown",
   "id": "manual-rescue",
   "metadata": {},
   "source": [
    "#### Determinando a acurácia do modelo quando executado sobre os dados de validação"
   ]
  },
  {
   "cell_type": "code",
   "execution_count": 161,
   "id": "respected-abraham",
   "metadata": {},
   "outputs": [
    {
     "name": "stdout",
     "output_type": "stream",
     "text": [
      "A acurácia de validação foi de:  50.75425790754258 %\n"
     ]
    }
   ],
   "source": [
    "validated = validation.classify(classifier)\n",
    "\n",
    "test_accuracy = validated.errorMatrix('discrete_classification', 'classification')\n",
    "val_acc = test_accuracy.accuracy().getInfo()\n",
    "print('A acurácia de validação foi de: ', 100*val_acc,'%')"
   ]
  },
  {
   "cell_type": "markdown",
   "id": "suited-spring",
   "metadata": {},
   "source": [
    "#### Determinando o coeficiente Kappa, que diz o quão melhor a classificação foi do que uma atribuição aleatória, em escala de -1 (muito pior) a 1 (muito melhor)"
   ]
  },
  {
   "cell_type": "code",
   "execution_count": 162,
   "id": "expected-counter",
   "metadata": {},
   "outputs": [
    {
     "name": "stdout",
     "output_type": "stream",
     "text": [
      "Coeficiente Kappa: 0.2496582319995872\n"
     ]
    }
   ],
   "source": [
    "print('Coeficiente Kappa:', test_accuracy.kappa().getInfo())"
   ]
  },
  {
   "cell_type": "code",
   "execution_count": 163,
   "id": "lesser-education",
   "metadata": {
    "scrolled": true
   },
   "outputs": [
    {
     "data": {
      "application/vnd.jupyter.widget-view+json": {
       "model_id": "faa763dcdf8e49fa8b476d6081e4c54b",
       "version_major": 2,
       "version_minor": 0
      },
      "text/plain": [
       "Map(center=[-3.3680064704094064, -39.99993734745807], controls=(WidgetControl(options=['position', 'transparen…"
      ]
     },
     "metadata": {},
     "output_type": "display_data"
    }
   ],
   "source": [
    "Map.addLayer(landcover, {}, 'Land cover')\n",
    "Map.add_legend(builtin_legend='COPERNICUS/Landcover/100m/Proba-V/Global')\n",
    "Map"
   ]
  }
 ],
 "metadata": {
  "kernelspec": {
   "display_name": "Python 3",
   "language": "python",
   "name": "python3"
  },
  "language_info": {
   "codemirror_mode": {
    "name": "ipython",
    "version": 3
   },
   "file_extension": ".py",
   "mimetype": "text/x-python",
   "name": "python",
   "nbconvert_exporter": "python",
   "pygments_lexer": "ipython3",
   "version": "3.7.9"
  }
 },
 "nbformat": 4,
 "nbformat_minor": 5
}
